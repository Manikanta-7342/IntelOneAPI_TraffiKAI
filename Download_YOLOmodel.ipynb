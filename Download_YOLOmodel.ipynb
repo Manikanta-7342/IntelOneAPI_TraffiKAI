{
 "cells": [
  {
   "cell_type": "code",
   "execution_count": 1,
   "id": "7a9c0d97-00cd-4de8-b126-bd60bf8203ad",
   "metadata": {},
   "outputs": [],
   "source": [
    "import os\n",
    "import urllib.request\n",
    "import sys"
   ]
  },
  {
   "cell_type": "code",
   "execution_count": 2,
   "id": "20aaaa5f-2cc2-4d52-8f39-93fd76a87743",
   "metadata": {},
   "outputs": [],
   "source": [
    "def _print_download_progress(count, block_size, total_size):\n",
    "    \n",
    "    pct_complete = float(count * block_size) / total_size\n",
    "\n",
    "    msg = \"\\r- Download progress: {0:.1%}\".format(pct_complete)\n",
    "\n",
    "    sys.stdout.write(msg)\n",
    "    sys.stdout.flush()"
   ]
  },
  {
   "cell_type": "code",
   "execution_count": 3,
   "id": "b4f62ca7-fc4a-4e44-aa60-33fefb23c58b",
   "metadata": {},
   "outputs": [],
   "source": [
    "def maybe_extract():\n",
    "\tcheck_dirs = ['./ssd_inception_v2_coco_2017_11_17']\n",
    "\tif not (os.path.exists(check_dirs[0])):\n",
    "\t\tprint('Extracting Files...')\n",
    "\t\tos.system('tar xf ./ssd_inception_v2_coco_2017_11_17.tar.gz -C ./')\n",
    "\t\tprint('Extraction Complete')\n",
    "\telse:\n",
    "\t\tprint('Files already extracted')"
   ]
  },
  {
   "cell_type": "code",
   "execution_count": 4,
   "id": "60d086da-d753-4064-b38e-7d39906f7ee4",
   "metadata": {},
   "outputs": [],
   "source": [
    "def maybe_download():\n",
    "\tfiles = ['ssd_inception_v2_coco_2017_11_17.tar.gz']\n",
    "\turl_train = 'http://download.tensorflow.org/models/object_detection/ssd_inception_v2_coco_2017_11_17.tar.gz'\n",
    "\tparent_dir = os.listdir('./')\n",
    "\tif files[0] not in parent_dir:\n",
    "\t\tprint('Downloading Files...')\n",
    "\t\tfile_path, _ = urllib.request.urlretrieve(url=url_train,\n",
    "\t\t\t\t\t\t\t\t\t\t\t\t  filename='./'+files[0],\n",
    "\t\t\t\t\t\t\t\t\t\t\t\t  reporthook=_print_download_progress)\n",
    "\t\tprint()\n",
    "\t\tprint('Test Dataset Download Finsihed')\n",
    "\telse:\n",
    "\t\tprint('Files already downloaded')\n",
    "\tmaybe_extract()"
   ]
  },
  {
   "cell_type": "code",
   "execution_count": 5,
   "id": "82db14f3-fe69-48b6-9964-0ce4560f42a1",
   "metadata": {},
   "outputs": [
    {
     "name": "stdout",
     "output_type": "stream",
     "text": [
      "Downloading Files...\n",
      "- Download progress: 100.0%\n",
      "Test Dataset Download Finsihed\n",
      "Extracting Files...\n",
      "Extraction Complete\n"
     ]
    }
   ],
   "source": [
    "maybe_download()"
   ]
  },
  {
   "cell_type": "code",
   "execution_count": null,
   "id": "cd399877-1a17-4a0b-8869-08e02f0c9160",
   "metadata": {},
   "outputs": [],
   "source": []
  }
 ],
 "metadata": {
  "kernelspec": {
   "display_name": "Python 3 (Intel® oneAPI 2023.0)",
   "language": "python",
   "name": "c009-intel_distribution_of_python_3_oneapi-beta05-python"
  },
  "language_info": {
   "codemirror_mode": {
    "name": "ipython",
    "version": 3
   },
   "file_extension": ".py",
   "mimetype": "text/x-python",
   "name": "python",
   "nbconvert_exporter": "python",
   "pygments_lexer": "ipython3",
   "version": "3.9.15"
  }
 },
 "nbformat": 4,
 "nbformat_minor": 5
}
